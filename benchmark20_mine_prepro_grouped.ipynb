{
 "cells": [
  {
   "cell_type": "code",
   "execution_count": 1,
   "metadata": {
    "collapsed": false
   },
   "outputs": [],
   "source": [
    "plt.rcParams['figure.figsize'] = (15,5)\n",
    "import pandas as pd\n",
    "import numpy as np\n",
    "import matplotlib.pyplot as plt\n",
    "import datetime as dt\n",
    "%matplotlib inline"
   ]
  },
  {
   "cell_type": "code",
   "execution_count": 2,
   "metadata": {
    "collapsed": false
   },
   "outputs": [],
   "source": [
    "tr = pd.read_csv('train.csv', parse_dates=['Date'], low_memory=False)\n",
    "te = pd.read_csv('test.csv', parse_dates=['Date'],low_memory=False)\n",
    "st = pd.read_csv('store.csv')"
   ]
  },
  {
   "cell_type": "markdown",
   "metadata": {},
   "source": [
    "# Competition"
   ]
  },
  {
   "cell_type": "markdown",
   "metadata": {},
   "source": [
    "Fill in missing competition distance as 10 times more than existing max."
   ]
  },
  {
   "cell_type": "code",
   "execution_count": 3,
   "metadata": {
    "collapsed": false
   },
   "outputs": [
    {
     "data": {
      "text/html": [
       "<div>\n",
       "<table border=\"1\" class=\"dataframe\">\n",
       "  <thead>\n",
       "    <tr style=\"text-align: right;\">\n",
       "      <th></th>\n",
       "      <th>Store</th>\n",
       "      <th>StoreType</th>\n",
       "      <th>Assortment</th>\n",
       "      <th>CompetitionDistance</th>\n",
       "      <th>CompetitionOpenSinceMonth</th>\n",
       "      <th>CompetitionOpenSinceYear</th>\n",
       "      <th>Promo2</th>\n",
       "      <th>Promo2SinceWeek</th>\n",
       "      <th>Promo2SinceYear</th>\n",
       "      <th>PromoInterval</th>\n",
       "    </tr>\n",
       "  </thead>\n",
       "  <tbody>\n",
       "    <tr>\n",
       "      <th>290</th>\n",
       "      <td>291</td>\n",
       "      <td>d</td>\n",
       "      <td>a</td>\n",
       "      <td>NaN</td>\n",
       "      <td>NaN</td>\n",
       "      <td>NaN</td>\n",
       "      <td>0</td>\n",
       "      <td>NaN</td>\n",
       "      <td>NaN</td>\n",
       "      <td>NaN</td>\n",
       "    </tr>\n",
       "    <tr>\n",
       "      <th>621</th>\n",
       "      <td>622</td>\n",
       "      <td>a</td>\n",
       "      <td>c</td>\n",
       "      <td>NaN</td>\n",
       "      <td>NaN</td>\n",
       "      <td>NaN</td>\n",
       "      <td>0</td>\n",
       "      <td>NaN</td>\n",
       "      <td>NaN</td>\n",
       "      <td>NaN</td>\n",
       "    </tr>\n",
       "    <tr>\n",
       "      <th>878</th>\n",
       "      <td>879</td>\n",
       "      <td>d</td>\n",
       "      <td>a</td>\n",
       "      <td>NaN</td>\n",
       "      <td>NaN</td>\n",
       "      <td>NaN</td>\n",
       "      <td>1</td>\n",
       "      <td>5</td>\n",
       "      <td>2013</td>\n",
       "      <td>Feb,May,Aug,Nov</td>\n",
       "    </tr>\n",
       "  </tbody>\n",
       "</table>\n",
       "</div>"
      ],
      "text/plain": [
       "     Store StoreType Assortment  CompetitionDistance  \\\n",
       "290    291         d          a                  NaN   \n",
       "621    622         a          c                  NaN   \n",
       "878    879         d          a                  NaN   \n",
       "\n",
       "     CompetitionOpenSinceMonth  CompetitionOpenSinceYear  Promo2  \\\n",
       "290                        NaN                       NaN       0   \n",
       "621                        NaN                       NaN       0   \n",
       "878                        NaN                       NaN       1   \n",
       "\n",
       "     Promo2SinceWeek  Promo2SinceYear    PromoInterval  \n",
       "290              NaN              NaN              NaN  \n",
       "621              NaN              NaN              NaN  \n",
       "878                5             2013  Feb,May,Aug,Nov  "
      ]
     },
     "execution_count": 3,
     "metadata": {},
     "output_type": "execute_result"
    }
   ],
   "source": [
    "st[np.isnan(st.CompetitionDistance)]"
   ]
  },
  {
   "cell_type": "code",
   "execution_count": 4,
   "metadata": {
    "collapsed": false
   },
   "outputs": [],
   "source": [
    "st.loc[np.isnan(st.CompetitionDistance),'CompetitionDistance'] = st.CompetitionDistance.max()*10"
   ]
  },
  {
   "cell_type": "code",
   "execution_count": 5,
   "metadata": {
    "collapsed": true
   },
   "outputs": [],
   "source": [
    "full = pd.concat([tr,te], axis=0)\n",
    "full = full.merge(st, on='Store').set_index('Date').sort_index()"
   ]
  },
  {
   "cell_type": "code",
   "execution_count": 6,
   "metadata": {
    "collapsed": false
   },
   "outputs": [],
   "source": [
    "full['CompetitionOpenSinceMonth'].fillna(1, inplace=True)\n",
    "full['CompetitionOpenSinceYear'].fillna(1971, inplace=True)\n",
    "\n",
    "def competition_open(df, year='CompetitionOpenSinceYear', month='CompetitionOpenSinceMonth'):\n",
    "    open_ = pd.to_datetime(df[year].astype('int')*10000+\n",
    "                           df[month].astype('int')*100+\n",
    "                           15, format=\"%Y%m%d\")\n",
    "    return (open_ < df.index).astype('int')\n",
    "\n",
    "for store in full['Store'].unique():\n",
    "    full.ix[full['Store'] == store,'competition']= competition_open(full[full['Store']==store])\n",
    "\n",
    "#full.drop(['CompetitionOpenSinceYear', 'CompetitionOpenSinceMonth','Customers'], axis=1, inplace=True)\n",
    "full.drop(['Customers'], axis=1, inplace=True)"
   ]
  },
  {
   "cell_type": "markdown",
   "metadata": {},
   "source": [
    "# Promo2 Renew"
   ]
  },
  {
   "cell_type": "code",
   "execution_count": 7,
   "metadata": {
    "collapsed": false,
    "scrolled": true
   },
   "outputs": [
    {
     "data": {
      "text/html": [
       "<div>\n",
       "<table border=\"1\" class=\"dataframe\">\n",
       "  <thead>\n",
       "    <tr style=\"text-align: right;\">\n",
       "      <th></th>\n",
       "      <th>DayOfWeek</th>\n",
       "      <th>Id</th>\n",
       "      <th>Open</th>\n",
       "      <th>Promo</th>\n",
       "      <th>Sales</th>\n",
       "      <th>SchoolHoliday</th>\n",
       "      <th>StateHoliday</th>\n",
       "      <th>Store</th>\n",
       "      <th>StoreType</th>\n",
       "      <th>Assortment</th>\n",
       "      <th>CompetitionDistance</th>\n",
       "      <th>CompetitionOpenSinceMonth</th>\n",
       "      <th>CompetitionOpenSinceYear</th>\n",
       "      <th>Promo2</th>\n",
       "      <th>Promo2SinceWeek</th>\n",
       "      <th>Promo2SinceYear</th>\n",
       "      <th>PromoInterval</th>\n",
       "      <th>competition</th>\n",
       "      <th>Promo2_on</th>\n",
       "      <th>Promo2_R</th>\n",
       "    </tr>\n",
       "    <tr>\n",
       "      <th>Date</th>\n",
       "      <th></th>\n",
       "      <th></th>\n",
       "      <th></th>\n",
       "      <th></th>\n",
       "      <th></th>\n",
       "      <th></th>\n",
       "      <th></th>\n",
       "      <th></th>\n",
       "      <th></th>\n",
       "      <th></th>\n",
       "      <th></th>\n",
       "      <th></th>\n",
       "      <th></th>\n",
       "      <th></th>\n",
       "      <th></th>\n",
       "      <th></th>\n",
       "      <th></th>\n",
       "      <th></th>\n",
       "      <th></th>\n",
       "      <th></th>\n",
       "    </tr>\n",
       "  </thead>\n",
       "  <tbody>\n",
       "    <tr>\n",
       "      <th>2013-01-01</th>\n",
       "      <td>2</td>\n",
       "      <td>NaN</td>\n",
       "      <td>0</td>\n",
       "      <td>0</td>\n",
       "      <td>0</td>\n",
       "      <td>1</td>\n",
       "      <td>a</td>\n",
       "      <td>232</td>\n",
       "      <td>c</td>\n",
       "      <td>c</td>\n",
       "      <td>13570</td>\n",
       "      <td>5</td>\n",
       "      <td>2010</td>\n",
       "      <td>1</td>\n",
       "      <td>10</td>\n",
       "      <td>2013</td>\n",
       "      <td>Mar,Jun,Sept,Dec</td>\n",
       "      <td>1</td>\n",
       "      <td>False</td>\n",
       "      <td>0</td>\n",
       "    </tr>\n",
       "    <tr>\n",
       "      <th>2013-01-01</th>\n",
       "      <td>2</td>\n",
       "      <td>NaN</td>\n",
       "      <td>0</td>\n",
       "      <td>0</td>\n",
       "      <td>0</td>\n",
       "      <td>1</td>\n",
       "      <td>a</td>\n",
       "      <td>180</td>\n",
       "      <td>d</td>\n",
       "      <td>a</td>\n",
       "      <td>5800</td>\n",
       "      <td>9</td>\n",
       "      <td>2010</td>\n",
       "      <td>0</td>\n",
       "      <td>1</td>\n",
       "      <td>2020</td>\n",
       "      <td>Jan</td>\n",
       "      <td>1</td>\n",
       "      <td>True</td>\n",
       "      <td>0</td>\n",
       "    </tr>\n",
       "    <tr>\n",
       "      <th>2013-01-01</th>\n",
       "      <td>2</td>\n",
       "      <td>NaN</td>\n",
       "      <td>0</td>\n",
       "      <td>0</td>\n",
       "      <td>0</td>\n",
       "      <td>1</td>\n",
       "      <td>a</td>\n",
       "      <td>405</td>\n",
       "      <td>a</td>\n",
       "      <td>a</td>\n",
       "      <td>1080</td>\n",
       "      <td>4</td>\n",
       "      <td>2008</td>\n",
       "      <td>1</td>\n",
       "      <td>14</td>\n",
       "      <td>2011</td>\n",
       "      <td>Jan,Apr,Jul,Oct</td>\n",
       "      <td>1</td>\n",
       "      <td>True</td>\n",
       "      <td>1</td>\n",
       "    </tr>\n",
       "    <tr>\n",
       "      <th>2013-01-01</th>\n",
       "      <td>2</td>\n",
       "      <td>NaN</td>\n",
       "      <td>0</td>\n",
       "      <td>0</td>\n",
       "      <td>0</td>\n",
       "      <td>1</td>\n",
       "      <td>a</td>\n",
       "      <td>1022</td>\n",
       "      <td>a</td>\n",
       "      <td>c</td>\n",
       "      <td>1520</td>\n",
       "      <td>1</td>\n",
       "      <td>1971</td>\n",
       "      <td>0</td>\n",
       "      <td>1</td>\n",
       "      <td>2020</td>\n",
       "      <td>Jan</td>\n",
       "      <td>1</td>\n",
       "      <td>True</td>\n",
       "      <td>0</td>\n",
       "    </tr>\n",
       "    <tr>\n",
       "      <th>2013-01-01</th>\n",
       "      <td>2</td>\n",
       "      <td>NaN</td>\n",
       "      <td>0</td>\n",
       "      <td>0</td>\n",
       "      <td>0</td>\n",
       "      <td>1</td>\n",
       "      <td>a</td>\n",
       "      <td>1098</td>\n",
       "      <td>a</td>\n",
       "      <td>a</td>\n",
       "      <td>1830</td>\n",
       "      <td>11</td>\n",
       "      <td>2004</td>\n",
       "      <td>0</td>\n",
       "      <td>1</td>\n",
       "      <td>2020</td>\n",
       "      <td>Jan</td>\n",
       "      <td>1</td>\n",
       "      <td>True</td>\n",
       "      <td>0</td>\n",
       "    </tr>\n",
       "  </tbody>\n",
       "</table>\n",
       "</div>"
      ],
      "text/plain": [
       "            DayOfWeek  Id  Open  Promo  Sales  SchoolHoliday StateHoliday  \\\n",
       "Date                                                                        \n",
       "2013-01-01          2 NaN     0      0      0              1            a   \n",
       "2013-01-01          2 NaN     0      0      0              1            a   \n",
       "2013-01-01          2 NaN     0      0      0              1            a   \n",
       "2013-01-01          2 NaN     0      0      0              1            a   \n",
       "2013-01-01          2 NaN     0      0      0              1            a   \n",
       "\n",
       "            Store StoreType Assortment  CompetitionDistance  \\\n",
       "Date                                                          \n",
       "2013-01-01    232         c          c                13570   \n",
       "2013-01-01    180         d          a                 5800   \n",
       "2013-01-01    405         a          a                 1080   \n",
       "2013-01-01   1022         a          c                 1520   \n",
       "2013-01-01   1098         a          a                 1830   \n",
       "\n",
       "            CompetitionOpenSinceMonth  CompetitionOpenSinceYear  Promo2  \\\n",
       "Date                                                                      \n",
       "2013-01-01                          5                      2010       1   \n",
       "2013-01-01                          9                      2010       0   \n",
       "2013-01-01                          4                      2008       1   \n",
       "2013-01-01                          1                      1971       0   \n",
       "2013-01-01                         11                      2004       0   \n",
       "\n",
       "            Promo2SinceWeek  Promo2SinceYear     PromoInterval  competition  \\\n",
       "Date                                                                          \n",
       "2013-01-01               10             2013  Mar,Jun,Sept,Dec            1   \n",
       "2013-01-01                1             2020               Jan            1   \n",
       "2013-01-01               14             2011   Jan,Apr,Jul,Oct            1   \n",
       "2013-01-01                1             2020               Jan            1   \n",
       "2013-01-01                1             2020               Jan            1   \n",
       "\n",
       "           Promo2_on  Promo2_R  \n",
       "Date                            \n",
       "2013-01-01     False         0  \n",
       "2013-01-01      True         0  \n",
       "2013-01-01      True         1  \n",
       "2013-01-01      True         0  \n",
       "2013-01-01      True         0  "
      ]
     },
     "execution_count": 7,
     "metadata": {},
     "output_type": "execute_result"
    }
   ],
   "source": [
    "full['PromoInterval'].fillna('Jan', inplace=True)\n",
    "full['Promo2SinceYear'].fillna(2020, inplace=True)\n",
    "full['Promo2SinceWeek'].fillna(1, inplace=True)\n",
    "\n",
    "mon = full.index.map(lambda x: x.strftime('%b'))\n",
    "per = full.PromoInterval.apply(lambda x: x.split(','))\n",
    "\n",
    "full['Promo2_on'] = [x in y for x,y in zip(mon,per)]\n",
    "\n",
    "def promo2_since(df, since_week='Promo2SinceWeek', since_year='Promo2SinceYear'):\n",
    "    since_ = pd.to_datetime(df[since_year].astype('int')*1000+\\\n",
    "                           (df[since_week]*7).astype('int') - 6, format=\"%Y%j\")\n",
    "    return (since_ < df.index).astype('int')\n",
    "\n",
    "for store in full['Store'].unique():\n",
    "    full.ix[full['Store'] == store,'Promo2_R'] = \\\n",
    "    promo2_since(full[full['Store']==store])*full.ix[full['Store']==store, 'Promo2_on']\n",
    "\n",
    "#full.drop(['Promo2SinceWeek', 'Promo2SinceYear','PromoInterval','Promo2_on'], axis=1, inplace=True)\n",
    "\n",
    "full.head()"
   ]
  },
  {
   "cell_type": "markdown",
   "metadata": {
    "collapsed": false
   },
   "source": [
    "# Add Tomorrow will be & Yesterday was a Holiday (TwH / YwH)"
   ]
  },
  {
   "cell_type": "code",
   "execution_count": 8,
   "metadata": {
    "collapsed": false
   },
   "outputs": [],
   "source": [
    "full.StateHoliday.fillna('0', inplace=True)\n",
    "\n",
    "for store in full['Store'].unique():\n",
    "    full.loc[full.Store==store, 'YwH'] = full.loc[full.Store==store,'StateHoliday'].shift(1)\n",
    "    full.loc[full.Store==store, 'TwH'] = full.loc[full.Store==store,'StateHoliday'].shift(-1)\n",
    "\n",
    "full.TwH.fillna('0', inplace=True)\n",
    "full.YwH.fillna('0', inplace=True)"
   ]
  },
  {
   "cell_type": "markdown",
   "metadata": {},
   "source": [
    "# Grouped dummies"
   ]
  },
  {
   "cell_type": "code",
   "execution_count": 9,
   "metadata": {
    "collapsed": true
   },
   "outputs": [],
   "source": [
    "full['Year'] = full.index.year\n",
    "full['Month'] = full.index.month\n",
    "full['WoY'] = full.index.weekofyear\n",
    "full['Day'] = full.index.day\n",
    "full['DoY'] = full.index.dayofyear\n",
    "full['StateHoliday'] = np.unique(full.StateHoliday, return_inverse=True)[1]\n",
    "full['StoreType'] = np.unique(full.StoreType, return_inverse=True)[1]\n",
    "full['Assortment'] = np.unique(full.Assortment, return_inverse=True)[1]\n",
    "full['TwH'] = np.unique(full.TwH, return_inverse=True)[1]\n",
    "full['YwH'] = np.unique(full.YwH, return_inverse=True)[1]"
   ]
  },
  {
   "cell_type": "code",
   "execution_count": 10,
   "metadata": {
    "collapsed": true
   },
   "outputs": [],
   "source": [
    "full['SbM'] = np.log(full.groupby('Month')['Sales'].transform('mean'))\n",
    "full['SbDoM'] = np.log(full.groupby('Day')['Sales'].transform('mean'))\n",
    "full['SbDoW'] = np.log(full.groupby('DayOfWeek')['Sales'].transform('mean'))"
   ]
  },
  {
   "cell_type": "code",
   "execution_count": 11,
   "metadata": {
    "collapsed": false
   },
   "outputs": [],
   "source": [
    "full['SbMbS']   = np.log(full.groupby(['Store','Month'])['Sales'].transform('mean'))\n",
    "full['SbDbS']   = np.log(full.groupby(['Store','Day'])['Sales'].transform('mean'))\n",
    "full['SbDoWbS'] = np.log(full.groupby(['Store','DayOfWeek'])['Sales'].transform('mean'))"
   ]
  },
  {
   "cell_type": "code",
   "execution_count": 12,
   "metadata": {
    "collapsed": false
   },
   "outputs": [
    {
     "data": {
      "text/plain": [
       "Index(['DayOfWeek', 'Id', 'Open', 'Promo', 'Sales', 'SchoolHoliday',\n",
       "       'StateHoliday', 'Store', 'StoreType', 'Assortment',\n",
       "       'CompetitionDistance', 'CompetitionOpenSinceMonth',\n",
       "       'CompetitionOpenSinceYear', 'Promo2', 'Promo2SinceWeek',\n",
       "       'Promo2SinceYear', 'PromoInterval', 'competition', 'Promo2_on',\n",
       "       'Promo2_R', 'YwH', 'TwH', 'Year', 'Month', 'WoY', 'Day', 'DoY', 'SbM',\n",
       "       'SbDoM', 'SbDoW', 'SbMbS', 'SbDbS', 'SbDoWbS'],\n",
       "      dtype='object')"
      ]
     },
     "execution_count": 12,
     "metadata": {},
     "output_type": "execute_result"
    }
   ],
   "source": [
    "full.columns"
   ]
  },
  {
   "cell_type": "markdown",
   "metadata": {},
   "source": [
    "# Find and remove \"outliers\""
   ]
  },
  {
   "cell_type": "code",
   "execution_count": 13,
   "metadata": {
    "collapsed": true
   },
   "outputs": [],
   "source": [
    "indx = np.isnan(full['Id'])\n",
    "train = full[indx]\n",
    "test = full[~indx]\n",
    "\n",
    "train = train[(train['Sales']!=0)&(train['Open']==1)]\n",
    "train = train.drop(['Id'], axis=1)\n",
    "\n",
    "test = test.drop('Sales', axis=1)"
   ]
  },
  {
   "cell_type": "code",
   "execution_count": 14,
   "metadata": {
    "collapsed": false
   },
   "outputs": [
    {
     "data": {
      "text/plain": [
       "((844338, 32), (41088, 32))"
      ]
     },
     "execution_count": 14,
     "metadata": {},
     "output_type": "execute_result"
    }
   ],
   "source": [
    "train.shape, test.shape"
   ]
  },
  {
   "cell_type": "code",
   "execution_count": 15,
   "metadata": {
    "collapsed": true
   },
   "outputs": [],
   "source": [
    "preds = pd.read_csv('xgb_fill_5F_Strat.csv')"
   ]
  },
  {
   "cell_type": "code",
   "execution_count": 16,
   "metadata": {
    "collapsed": false
   },
   "outputs": [
    {
     "data": {
      "text/plain": [
       "0.092763115672196805"
      ]
     },
     "execution_count": 16,
     "metadata": {},
     "output_type": "execute_result"
    }
   ],
   "source": [
    "miss = ((preds['xgb_fill_5F_Strat'].values/train['Sales'].values-1)**2).argsort()[-100:]\n",
    "\n",
    "np.sqrt(np.mean((np.delete(preds['xgb_fill_5F_Strat'].values, miss)/np.delete(train['Sales'].values,miss)-1)**2))"
   ]
  },
  {
   "cell_type": "code",
   "execution_count": 17,
   "metadata": {
    "collapsed": false
   },
   "outputs": [],
   "source": [
    "idx = np.zeros(train.shape[0])\n",
    "idx[miss] = 1\n",
    "train = train.iloc[~idx.astype('bool'),]"
   ]
  },
  {
   "cell_type": "code",
   "execution_count": 18,
   "metadata": {
    "collapsed": false
   },
   "outputs": [
    {
     "data": {
      "text/plain": [
       "((844238, 32), (41088, 32))"
      ]
     },
     "execution_count": 18,
     "metadata": {},
     "output_type": "execute_result"
    }
   ],
   "source": [
    "train.shape, test.shape"
   ]
  },
  {
   "cell_type": "code",
   "execution_count": 19,
   "metadata": {
    "collapsed": false
   },
   "outputs": [
    {
     "data": {
      "text/plain": [
       "Index(['DayOfWeek', 'Open', 'Promo', 'Sales', 'SchoolHoliday', 'StateHoliday',\n",
       "       'Store', 'StoreType', 'Assortment', 'CompetitionDistance',\n",
       "       'CompetitionOpenSinceMonth', 'CompetitionOpenSinceYear', 'Promo2',\n",
       "       'Promo2SinceWeek', 'Promo2SinceYear', 'PromoInterval', 'competition',\n",
       "       'Promo2_on', 'Promo2_R', 'YwH', 'TwH', 'Year', 'Month', 'WoY', 'Day',\n",
       "       'DoY', 'SbM', 'SbDoM', 'SbDoW', 'SbMbS', 'SbDbS', 'SbDoWbS'],\n",
       "      dtype='object')"
      ]
     },
     "execution_count": 19,
     "metadata": {},
     "output_type": "execute_result"
    }
   ],
   "source": [
    "train.columns"
   ]
  },
  {
   "cell_type": "markdown",
   "metadata": {},
   "source": [
    "# Make Train / Test folds"
   ]
  },
  {
   "cell_type": "code",
   "execution_count": 20,
   "metadata": {
    "collapsed": true
   },
   "outputs": [],
   "source": [
    "import sklearn.cross_validation as cv"
   ]
  },
  {
   "cell_type": "code",
   "execution_count": 21,
   "metadata": {
    "collapsed": true
   },
   "outputs": [],
   "source": [
    "seed =1\n",
    "rng = np.random.RandomState(seed)"
   ]
  },
  {
   "cell_type": "code",
   "execution_count": 22,
   "metadata": {
    "collapsed": false
   },
   "outputs": [
    {
     "data": {
      "text/plain": [
       "array([195581, 195582, 195583, ..., 577450, 577451, 577452])"
      ]
     },
     "execution_count": 22,
     "metadata": {},
     "output_type": "execute_result"
    }
   ],
   "source": [
    "idx = (train.Month==8)|(train.Month==9)\n",
    "full_idx = np.arange(train.shape[0])\n",
    "val_idx = full_idx[idx.values]\n",
    "val_idx"
   ]
  },
  {
   "cell_type": "code",
   "execution_count": 23,
   "metadata": {
    "collapsed": false
   },
   "outputs": [],
   "source": [
    "test_idx = []\n",
    "for i, (_,tst) in enumerate(cv.KFold(len(val_idx), n_folds=5, random_state=rng)):\n",
    "    test_idx.append(val_idx[tst])"
   ]
  },
  {
   "cell_type": "code",
   "execution_count": 24,
   "metadata": {
    "collapsed": false
   },
   "outputs": [],
   "source": [
    "train_idx = []\n",
    "for i in range(5):\n",
    "    train_idx.append(np.setdiff1d(full_idx,test_idx[i]))"
   ]
  },
  {
   "cell_type": "code",
   "execution_count": 25,
   "metadata": {
    "collapsed": false
   },
   "outputs": [],
   "source": [
    "for i in range(5):\n",
    "    train_file='./train_b20_'+str(i)+'.csv'\n",
    "    pd.DataFrame(train_idx[i], columns=['idx']).to_csv(train_file, index=False)\n",
    "    fill_file='./fill_b20_'+str(i)+'.csv'\n",
    "    pd.DataFrame(test_idx[i], columns=['idx']).to_csv(fill_file, index=False)"
   ]
  },
  {
   "cell_type": "code",
   "execution_count": 26,
   "metadata": {
    "collapsed": false
   },
   "outputs": [],
   "source": [
    "# tr = pd.read_csv('train_b20_0.csv')\n",
    "# te = pd.read_csv('fill_b20_0.csv')"
   ]
  },
  {
   "cell_type": "markdown",
   "metadata": {},
   "source": [
    "# Upload to R"
   ]
  },
  {
   "cell_type": "code",
   "execution_count": 27,
   "metadata": {
    "collapsed": true
   },
   "outputs": [],
   "source": [
    "train.to_csv('benchmark20_train.csv', index=False)\n",
    "\n",
    "test.to_csv('benchmark20_test.csv', index=False)"
   ]
  },
  {
   "cell_type": "code",
   "execution_count": 28,
   "metadata": {
    "collapsed": false
   },
   "outputs": [
    {
     "data": {
      "text/plain": [
       "Index(['DayOfWeek', 'Open', 'Promo', 'Sales', 'SchoolHoliday', 'StateHoliday',\n",
       "       'Store', 'StoreType', 'Assortment', 'CompetitionDistance',\n",
       "       'CompetitionOpenSinceMonth', 'CompetitionOpenSinceYear', 'Promo2',\n",
       "       'Promo2SinceWeek', 'Promo2SinceYear', 'PromoInterval', 'competition',\n",
       "       'Promo2_on', 'Promo2_R', 'YwH', 'TwH', 'Year', 'Month', 'WoY', 'Day',\n",
       "       'DoY', 'SbM', 'SbDoM', 'SbDoW', 'SbMbS', 'SbDbS', 'SbDoWbS'],\n",
       "      dtype='object')"
      ]
     },
     "execution_count": 28,
     "metadata": {},
     "output_type": "execute_result"
    }
   ],
   "source": [
    "train.columns"
   ]
  }
 ],
 "metadata": {
  "kernelspec": {
   "display_name": "Python 3",
   "language": "python",
   "name": "python3"
  },
  "language_info": {
   "codemirror_mode": {
    "name": "ipython",
    "version": 3
   },
   "file_extension": ".py",
   "mimetype": "text/x-python",
   "name": "python",
   "nbconvert_exporter": "python",
   "pygments_lexer": "ipython3",
   "version": "3.5.0"
  }
 },
 "nbformat": 4,
 "nbformat_minor": 0
}
